{
 "cells": [
  {
   "cell_type": "code",
   "execution_count": null,
   "metadata": {
    "collapsed": true
   },
   "outputs": [],
   "source": [
    "import numpy as np\n",
    "    \n",
    "import pandas as pd\n",
    "import sklearn as sk\n",
    "import seaborn as sb\n",
    "import datetime as dt\n",
    "import matplotlib.pyplot as plt\n",
    "from sklearn import preprocessing\n",
    "from sklearn.linear_model import LogisticRegression\n",
    "from sklearn.cross_validation import train_test_split\n",
    "from sklearn import metrics \n",
    "from sklearn.metrics import classification_report\n",
    "\n",
    "from sklearn.cross_validation import cross_val_score\n",
    "%matplotlib inline\n",
    "\n",
    "#read in data and update data type to boolean for C2\n",
    "ipo_data = pd.read_excel(\\Competation #1 Raw Data_New.xlsx\\header=0na_values='-' )\n",
    "ipo_data.C2 = ipo_data.C2.astype(bool)\n",
    "\n",
    "#descriptive stats\n",
    "ipo_data.describe()\n",
    "\n",
    "#replace missing values with mean\n",
    "ipo_data_new = ipo_data.fillna(ipo_data.mean())"
   ]
  },
  {
   "cell_type": "code",
   "execution_count": null,
   "metadata": {
    "collapsed": true
   },
   "outputs": [],
   "source": [
    "#creating Y1 attribute\n",
    "#first create new column for p(mid) which is needed to calculate\n",
    "ipo_data['P(mid)']=(ipo_data['P(H)']+ipo_data['P(L)'])/2\n",
    "\n",
    "#verify the p(mid) column was added correctly\n",
    "print(ipo_data.head(10))\n",
    "\n",
    "# need to creat if statement - when P(h)< p(mid) 1 else 0\n",
    "def y1function(row):\n",
    "    if row['P(H)'] < row['P(mid)']:\n",
    "        val = 1\n",
    "    else:\n",
    "        val = 0\n",
    "    return val\n",
    "\n",
    "ipo_data['Y1'] = ipo_data.apply(y1function axis=1)"
   ]
  },
  {
   "cell_type": "code",
   "execution_count": null,
   "metadata": {
    "collapsed": true
   },
   "outputs": [],
   "source": [
    "#verify if statement worked\\n,\n",
    "ipo_data.loc[ipo_data['P(H)'] < ipo_data['P(mid)']]"
   ]
  },
  {
   "cell_type": "code",
   "execution_count": null,
   "metadata": {
    "collapsed": true
   },
   "outputs": [],
   "source": [
    "#creating Y2 attribute\n",
    "# need to creat if statement - when P(IPO)< p(1Day) 1 else 0\n",
    "def y2function(row):\n",
    "    if row['P(IPO)'] < row['P(1Day)']:\n",
    "        val = 1\n",
    "    else:\n",
    "        val = 0\n",
    "    return val\n"
   ]
  },
  {
   "cell_type": "code",
   "execution_count": null,
   "metadata": {
    "collapsed": true
   },
   "outputs": [],
   "source": [
    "#verify if statement worked\\n,\n",
    "ipo_data.loc[ipo_data['P(IPO)'] < ipo_data['P(1Day)']]"
   ]
  },
  {
   "cell_type": "code",
   "execution_count": null,
   "metadata": {
    "collapsed": true
   },
   "outputs": [],
   "source": [
    "#creating C3^ attribute\n",
    "# need to creat if statement - when c3 is positive 1 else 0\n",
    "def C3function(row):\n",
    "    if row['C3'] >=0:\n",
    "        val = 1\n",
    "    else:\n",
    "        val = 0\n",
    "    return val\n"
   ]
  },
  {
   "cell_type": "code",
   "execution_count": null,
   "metadata": {
    "collapsed": true
   },
   "outputs": [],
   "source": [
    "#verify if statement worked\\n,\n",
    "ipo_data.loc[ipo_data['C3'] >=0]"
   ]
  },
  {
   "cell_type": "code",
   "execution_count": null,
   "metadata": {
    "collapsed": true
   },
   "outputs": [],
   "source": [
    "#creating C5' attribute\n",
    "ipo_data['C5^']=(ipo_data['C5']/ipo_data['C6'])#creating C6^ attribute\n",
    "# need to creat if statement - Set to (P(IPO) – P(mid))/P(mid) x 100% if P(IPO) > P(mid) otherwise 0\n",
    "def C6function(row):\n",
    "    if row['P(IPO)'] > row['P(mid)']:\n",
    "        val = ((row['P(IPO)']-row['P(mid)'])/row['P(mid)'])\n",
    "    else:\n",
    "        val = 0\n",
    "    return val"
   ]
  },
  {
   "cell_type": "code",
   "execution_count": null,
   "metadata": {
    "collapsed": true
   },
   "outputs": [],
   "source": [
    "#verify if statement worked\\n,\n",
    "ipo_data.loc[ipo_data['P(IPO)'] < ipo_data['P(mid)']]"
   ]
  },
  {
   "cell_type": "code",
   "execution_count": null,
   "metadata": {
    "collapsed": true
   },
   "outputs": [],
   "source": [
    "# Experimenting with normalizing data\n",
    "#separate the data from the target attributes\n",
    "X = ipo_data_new.loc[:['P(IPO)' 'P(H)' 'P(L)' 'P(1Day)' 'C1' 'C2' 'C3' 'C4' 'C5' 'C6' 'C7' 'T1' 'T2' 'T3' 'T4' 'T5' 'S1' 'S2' 'S3']].values\n",
    "\n",
    "# normalize the data attributes\n",
    "\n",
    "normalized_X = preprocessing.normalize(X)\n",
    "\n",
    "#print\n",
    "print(normalized_X)"
   ]
  }
 ],
 "metadata": {
  "kernelspec": {
   "display_name": "Python 3",
   "language": "python",
   "name": "python3"
  },
  "language_info": {
   "codemirror_mode": {
    "name": "ipython",
    "version": 3
   },
   "file_extension": ".py",
   "mimetype": "text/x-python",
   "name": "python",
   "nbconvert_exporter": "python",
   "pygments_lexer": "ipython3",
   "version": "3.6.1"
  }
 },
 "nbformat": 4,
 "nbformat_minor": 2
}
