{
 "cells": [
  {
   "cell_type": "code",
   "execution_count": 1,
   "metadata": {},
   "outputs": [
    {
     "name": "stderr",
     "output_type": "stream",
     "text": [
      "C:\\Users\\conor\\Anaconda3\\lib\\site-packages\\sklearn\\cross_validation.py:41: DeprecationWarning: This module was deprecated in version 0.18 in favor of the model_selection module into which all the refactored classes and functions are moved. Also note that the interface of the new CV iterators are different from that of this module. This module will be removed in 0.20.\n",
      "  \"This module will be removed in 0.20.\", DeprecationWarning)\n"
     ]
    }
   ],
   "source": [
    "import numpy as np\n",
    "from scipy import stats\n",
    "import pandas as pd\n",
    "import sklearn as sk\n",
    "import seaborn as sb\n",
    "import datetime as dt\n",
    "import matplotlib.pyplot as plt\n",
    "from sklearn import preprocessing\n",
    "from sklearn.linear_model import LogisticRegression\n",
    "from sklearn.cross_validation import train_test_split\n",
    "from sklearn import metrics \n",
    "from sklearn.metrics import classification_report\n",
    "\n",
    "from sklearn.cross_validation import cross_val_score\n",
    "%matplotlib inline\n",
    "\n"
   ]
  },
  {
   "cell_type": "code",
   "execution_count": 2,
   "metadata": {
    "collapsed": true
   },
   "outputs": [],
   "source": [
    "ipo_data = pd.read_excel(\"Competation #1 Raw Data_New.xlsx\",header=0,na_values='-' )"
   ]
  },
  {
   "cell_type": "code",
   "execution_count": null,
   "metadata": {
    "collapsed": true
   },
   "outputs": [],
   "source": []
  },
  {
   "cell_type": "code",
   "execution_count": 3,
   "metadata": {},
   "outputs": [
    {
     "name": "stdout",
     "output_type": "stream",
     "text": [
      "I1          object\n",
      "I2          object\n",
      "I3          object\n",
      "P(IPO)     float64\n",
      "P(H)       float64\n",
      "P(L)       float64\n",
      "P(1Day)    float64\n",
      "C1         float64\n",
      "C2         float64\n",
      "C3         float64\n",
      "C4         float64\n",
      "C5         float64\n",
      "C6         float64\n",
      "C7         float64\n",
      "T1         float64\n",
      "T2         float64\n",
      "T3         float64\n",
      "T4         float64\n",
      "T5         float64\n",
      "S1         float64\n",
      "S2         float64\n",
      "S3         float64\n",
      "dtype: object\n"
     ]
    }
   ],
   "source": [
    "print(ipo_data.dtypes)"
   ]
  },
  {
   "cell_type": "code",
   "execution_count": 4,
   "metadata": {},
   "outputs": [
    {
     "name": "stdout",
     "output_type": "stream",
     "text": [
      "      I1                                     I2    I3  P(IPO)  P(H)  P(L)  \\\n",
      "0   AATI     ADVANCED ANALOGIC TECHNOLOGIES INC  3674    10.0   9.5   8.5   \n",
      "1   ABPI        ACCENTIA BIOPHARMACEUTICALS INC  2834     8.0  10.0   8.0   \n",
      "2   ACAD             ACADIA PHARMACEUTICALS INC  2834     7.0  14.0  12.0   \n",
      "3   ACHN          ACHILLION PHARMACEUTICALS INC  2834    11.5  16.0  14.0   \n",
      "4   ACLI        AMERICAN COMMERCIAL LINES INC.   4492    21.0  21.0  19.0   \n",
      "5   ACOM                     Ancestry.com Inc.   7379    13.5  14.5  12.5   \n",
      "6   ACOR                ACORDA THERAPEUTICS INC  2836     6.0  13.0  11.0   \n",
      "7   ACRX             ACELRX PHARMACEUTICALS INC  2834     5.0  14.0  12.0   \n",
      "8   ACTV                     ACTIVE NETWORK INC  7372    15.0  18.0  16.0   \n",
      "9    ACW                          ACCURIDE CORP  3714     9.0  19.0  17.0   \n",
      "10  ADKU             ADCARE HEALTH SYSTEMS, INC   NaN     NaN   NaN   NaN   \n",
      "11  ADLS  Advanced Life Sciences Holdings, Inc.  2854     5.0   9.0   8.0   \n",
      "12  ADZA                  ADEZA BIOMEDICAL CORP  2835    16.0  16.0  14.0   \n",
      "13  AFFY                            AFFYMAX INC  2834    25.0  24.0  22.0   \n",
      "14  AGAM            AGA Medical Holdings, Inc.   3845    14.5  16.0  15.0   \n",
      "15    AH                           R1 RCM INC.   7389    12.0  16.0  14.0   \n",
      "16  AHII           ANIMAL HEALTH HOLDINGS, INC.  5047    11.0  12.0  10.0   \n",
      "17  AIMC         Altra Industrial Motion Corp.   3568    13.5  16.0  14.0   \n",
      "18  AIRV                            AIRVANA INC  3661     7.0  10.0   8.0   \n",
      "19  ALGT                   Allegiant Travel CO   4512    18.0  17.0  15.0   \n",
      "\n",
      "      P(1Day)     C1   C2      C3  ...            C6       C7     T1       T2  \\\n",
      "0   11.870000  122.0  1.0    3.43  ...    10600000.0   51.345  470.0  12719.0   \n",
      "1    7.250000  259.0  0.0   -1.62  ...     2400000.0   25.936  791.0  21792.0   \n",
      "2    6.700000   90.0  1.0   -1.24  ...     5000000.0    7.378  201.0   5262.0   \n",
      "3   12.390000  209.0  1.0   -0.91  ...     4500000.0    8.526  328.0   8259.0   \n",
      "4   56.599998   80.0  1.0    0.07  ...     8250000.0  632.298  572.0  14830.0   \n",
      "5   14.200000   94.0  1.0    0.06  ...     7407407.0  197.591  510.0  17999.0   \n",
      "6    6.720000  128.0  1.0   -1.87  ...     5500000.0    5.146  495.0  15758.0   \n",
      "7    4.550000   91.0  0.0   -0.74  ...     8000000.0      NaN  334.0  11226.0   \n",
      "8   15.900000  100.0  1.0   -0.51  ...    11000000.0  279.600  620.0  14813.0   \n",
      "9    0.000000  106.0  1.0    1.49  ...    11000000.0  494.008  385.0   9134.0   \n",
      "10        NaN    NaN  NaN     NaN  ...           NaN      NaN  332.0   7534.0   \n",
      "11   6.000000   99.0  1.0 -398.10  ...     7000000.0    0.320  253.0   5788.0   \n",
      "12  19.700001  126.0  1.0    0.27  ...     3750000.0   26.499  206.0   5732.0   \n",
      "13  33.880001  140.0  1.0   -2.19  ...     3700000.0    0.074  416.0  10562.0   \n",
      "14  14.600000  488.0  1.0    0.18  ...    13750000.0  166.896  624.0  18633.0   \n",
      "15  13.550000  233.0  1.0    0.17  ...    10000000.0  510.192  586.0  18142.0   \n",
      "16  12.450000  125.0  1.0    0.31  ...    11800000.0  571.192  269.0   6456.0   \n",
      "17  14.290000   77.0  1.0    0.14  ...    10000000.0  363.465  391.0  11322.0   \n",
      "18   7.170000   92.0  1.0    1.18  ...     8300000.0  170.270  528.0  13516.0   \n",
      "19  25.100000  207.0  1.0    0.63  ...     5000000.0  132.500  512.0  11684.0   \n",
      "\n",
      "         T3     T4      T5    S1     S2     S3  \n",
      "0   11560.0  301.0   690.0  62.0  117.0  139.0  \n",
      "1   19585.0  510.0  1120.0  71.0  242.0  237.0  \n",
      "2    4785.0  128.0   325.0  61.0   33.0   60.0  \n",
      "3    7574.0  177.0   509.0  80.0   59.0  110.0  \n",
      "4   13176.0  336.0   720.0  67.0  149.0  167.0  \n",
      "5   13934.0  328.0   815.0  62.0   96.0  181.0  \n",
      "6   13953.0  379.0   698.0  82.0  106.0  135.0  \n",
      "7   10056.0  276.0    -1.0  55.0  120.0  122.0  \n",
      "8   13463.0  335.0   917.0  58.0  124.0  234.0  \n",
      "9    8107.0  198.0   459.0  81.0   90.0  147.0  \n",
      "10   6747.0  169.0   263.0  51.0   65.0   74.0  \n",
      "11   5200.0  138.0   385.0  29.0   41.0   70.0  \n",
      "12   4963.0  141.0   259.0  21.0   43.0   80.0  \n",
      "13   9835.0  231.0   726.0  81.0  118.0  138.0  \n",
      "14  16471.0  380.0   909.0  98.0  256.0  172.0  \n",
      "15  15782.0  413.0   649.0  98.0   92.0  155.0  \n",
      "16   5687.0  140.0   336.0  36.0   33.0   83.0  \n",
      "17   9589.0  247.0   603.0  72.0  134.0  133.0  \n",
      "18  12431.0  323.0   523.0  54.0   75.0  117.0  \n",
      "19  10189.0  267.0   429.0  52.0   78.0   91.0  \n",
      "\n",
      "[20 rows x 22 columns]\n"
     ]
    }
   ],
   "source": [
    "print(ipo_data.head(20))"
   ]
  },
  {
   "cell_type": "code",
   "execution_count": 5,
   "metadata": {},
   "outputs": [
    {
     "data": {
      "text/html": [
       "<div>\n",
       "<style>\n",
       "    .dataframe thead tr:only-child th {\n",
       "        text-align: right;\n",
       "    }\n",
       "\n",
       "    .dataframe thead th {\n",
       "        text-align: left;\n",
       "    }\n",
       "\n",
       "    .dataframe tbody tr th {\n",
       "        vertical-align: top;\n",
       "    }\n",
       "</style>\n",
       "<table border=\"1\" class=\"dataframe\">\n",
       "  <thead>\n",
       "    <tr style=\"text-align: right;\">\n",
       "      <th></th>\n",
       "      <th>P(IPO)</th>\n",
       "      <th>P(H)</th>\n",
       "      <th>P(L)</th>\n",
       "      <th>P(1Day)</th>\n",
       "      <th>C1</th>\n",
       "      <th>C3</th>\n",
       "      <th>C4</th>\n",
       "      <th>C5</th>\n",
       "      <th>C6</th>\n",
       "      <th>C7</th>\n",
       "      <th>T1</th>\n",
       "      <th>T2</th>\n",
       "      <th>T3</th>\n",
       "      <th>T4</th>\n",
       "      <th>T5</th>\n",
       "      <th>S1</th>\n",
       "      <th>S2</th>\n",
       "      <th>S3</th>\n",
       "    </tr>\n",
       "  </thead>\n",
       "  <tbody>\n",
       "    <tr>\n",
       "      <th>count</th>\n",
       "      <td>677.000000</td>\n",
       "      <td>672.000000</td>\n",
       "      <td>672.000000</td>\n",
       "      <td>660.000000</td>\n",
       "      <td>660.000000</td>\n",
       "      <td>646.000000</td>\n",
       "      <td>660.000000</td>\n",
       "      <td>6.760000e+02</td>\n",
       "      <td>6.760000e+02</td>\n",
       "      <td>610.000000</td>\n",
       "      <td>681.000000</td>\n",
       "      <td>681.000000</td>\n",
       "      <td>681.000000</td>\n",
       "      <td>681.000000</td>\n",
       "      <td>681.000000</td>\n",
       "      <td>681.000000</td>\n",
       "      <td>681.000000</td>\n",
       "      <td>681.000000</td>\n",
       "    </tr>\n",
       "    <tr>\n",
       "      <th>mean</th>\n",
       "      <td>13.837666</td>\n",
       "      <td>15.481190</td>\n",
       "      <td>13.515045</td>\n",
       "      <td>25.934766</td>\n",
       "      <td>149.728788</td>\n",
       "      <td>1.788904</td>\n",
       "      <td>0.007282</td>\n",
       "      <td>4.935776e+07</td>\n",
       "      <td>1.241519e+07</td>\n",
       "      <td>500.459962</td>\n",
       "      <td>465.634361</td>\n",
       "      <td>12758.606461</td>\n",
       "      <td>11395.844347</td>\n",
       "      <td>294.353891</td>\n",
       "      <td>679.220264</td>\n",
       "      <td>68.421439</td>\n",
       "      <td>120.104258</td>\n",
       "      <td>144.759178</td>\n",
       "    </tr>\n",
       "    <tr>\n",
       "      <th>std</th>\n",
       "      <td>6.053731</td>\n",
       "      <td>6.653429</td>\n",
       "      <td>5.835646</td>\n",
       "      <td>73.234948</td>\n",
       "      <td>152.817467</td>\n",
       "      <td>162.666532</td>\n",
       "      <td>0.033318</td>\n",
       "      <td>1.043764e+08</td>\n",
       "      <td>2.512855e+07</td>\n",
       "      <td>1648.337634</td>\n",
       "      <td>175.741647</td>\n",
       "      <td>5449.644597</td>\n",
       "      <td>4839.670179</td>\n",
       "      <td>121.532637</td>\n",
       "      <td>472.914323</td>\n",
       "      <td>39.096525</td>\n",
       "      <td>84.828959</td>\n",
       "      <td>69.276285</td>\n",
       "    </tr>\n",
       "    <tr>\n",
       "      <th>min</th>\n",
       "      <td>3.000000</td>\n",
       "      <td>0.000000</td>\n",
       "      <td>3.000000</td>\n",
       "      <td>0.000000</td>\n",
       "      <td>10.000000</td>\n",
       "      <td>-786.239000</td>\n",
       "      <td>-0.162352</td>\n",
       "      <td>3.693227e+06</td>\n",
       "      <td>5.250000e+05</td>\n",
       "      <td>0.074000</td>\n",
       "      <td>132.000000</td>\n",
       "      <td>0.000000</td>\n",
       "      <td>0.000000</td>\n",
       "      <td>0.000000</td>\n",
       "      <td>-1.000000</td>\n",
       "      <td>-1.000000</td>\n",
       "      <td>20.000000</td>\n",
       "      <td>26.000000</td>\n",
       "    </tr>\n",
       "    <tr>\n",
       "      <th>25%</th>\n",
       "      <td>10.000000</td>\n",
       "      <td>12.500000</td>\n",
       "      <td>11.000000</td>\n",
       "      <td>11.000000</td>\n",
       "      <td>85.000000</td>\n",
       "      <td>-0.852500</td>\n",
       "      <td>-0.013927</td>\n",
       "      <td>1.871417e+07</td>\n",
       "      <td>5.000000e+06</td>\n",
       "      <td>37.245750</td>\n",
       "      <td>351.000000</td>\n",
       "      <td>9195.000000</td>\n",
       "      <td>8162.000000</td>\n",
       "      <td>213.000000</td>\n",
       "      <td>462.000000</td>\n",
       "      <td>45.000000</td>\n",
       "      <td>73.000000</td>\n",
       "      <td>100.000000</td>\n",
       "    </tr>\n",
       "    <tr>\n",
       "      <th>50%</th>\n",
       "      <td>13.500000</td>\n",
       "      <td>15.000000</td>\n",
       "      <td>13.000000</td>\n",
       "      <td>14.845000</td>\n",
       "      <td>107.000000</td>\n",
       "      <td>0.010000</td>\n",
       "      <td>0.009125</td>\n",
       "      <td>2.740018e+07</td>\n",
       "      <td>7.398704e+06</td>\n",
       "      <td>103.833000</td>\n",
       "      <td>444.000000</td>\n",
       "      <td>12045.000000</td>\n",
       "      <td>10785.000000</td>\n",
       "      <td>279.000000</td>\n",
       "      <td>624.000000</td>\n",
       "      <td>60.000000</td>\n",
       "      <td>100.000000</td>\n",
       "      <td>134.000000</td>\n",
       "    </tr>\n",
       "    <tr>\n",
       "      <th>75%</th>\n",
       "      <td>17.000000</td>\n",
       "      <td>17.000000</td>\n",
       "      <td>15.000000</td>\n",
       "      <td>20.485000</td>\n",
       "      <td>155.250000</td>\n",
       "      <td>0.470000</td>\n",
       "      <td>0.031571</td>\n",
       "      <td>4.980786e+07</td>\n",
       "      <td>1.200000e+07</td>\n",
       "      <td>331.138000</td>\n",
       "      <td>551.000000</td>\n",
       "      <td>15241.000000</td>\n",
       "      <td>13760.000000</td>\n",
       "      <td>354.000000</td>\n",
       "      <td>795.000000</td>\n",
       "      <td>85.000000</td>\n",
       "      <td>142.000000</td>\n",
       "      <td>173.000000</td>\n",
       "    </tr>\n",
       "    <tr>\n",
       "      <th>max</th>\n",
       "      <td>85.000000</td>\n",
       "      <td>135.000000</td>\n",
       "      <td>108.000000</td>\n",
       "      <td>1159.200562</td>\n",
       "      <td>2087.000000</td>\n",
       "      <td>3864.500000</td>\n",
       "      <td>0.092896</td>\n",
       "      <td>2.138085e+09</td>\n",
       "      <td>4.212336e+08</td>\n",
       "      <td>30683.000000</td>\n",
       "      <td>1750.000000</td>\n",
       "      <td>49056.000000</td>\n",
       "      <td>43952.000000</td>\n",
       "      <td>1058.000000</td>\n",
       "      <td>10277.000000</td>\n",
       "      <td>309.000000</td>\n",
       "      <td>944.000000</td>\n",
       "      <td>883.000000</td>\n",
       "    </tr>\n",
       "  </tbody>\n",
       "</table>\n",
       "</div>"
      ],
      "text/plain": [
       "           P(IPO)        P(H)        P(L)      P(1Day)           C1  \\\n",
       "count  677.000000  672.000000  672.000000   660.000000   660.000000   \n",
       "mean    13.837666   15.481190   13.515045    25.934766   149.728788   \n",
       "std      6.053731    6.653429    5.835646    73.234948   152.817467   \n",
       "min      3.000000    0.000000    3.000000     0.000000    10.000000   \n",
       "25%     10.000000   12.500000   11.000000    11.000000    85.000000   \n",
       "50%     13.500000   15.000000   13.000000    14.845000   107.000000   \n",
       "75%     17.000000   17.000000   15.000000    20.485000   155.250000   \n",
       "max     85.000000  135.000000  108.000000  1159.200562  2087.000000   \n",
       "\n",
       "                C3          C4            C5            C6            C7  \\\n",
       "count   646.000000  660.000000  6.760000e+02  6.760000e+02    610.000000   \n",
       "mean      1.788904    0.007282  4.935776e+07  1.241519e+07    500.459962   \n",
       "std     162.666532    0.033318  1.043764e+08  2.512855e+07   1648.337634   \n",
       "min    -786.239000   -0.162352  3.693227e+06  5.250000e+05      0.074000   \n",
       "25%      -0.852500   -0.013927  1.871417e+07  5.000000e+06     37.245750   \n",
       "50%       0.010000    0.009125  2.740018e+07  7.398704e+06    103.833000   \n",
       "75%       0.470000    0.031571  4.980786e+07  1.200000e+07    331.138000   \n",
       "max    3864.500000    0.092896  2.138085e+09  4.212336e+08  30683.000000   \n",
       "\n",
       "                T1            T2            T3           T4            T5  \\\n",
       "count   681.000000    681.000000    681.000000   681.000000    681.000000   \n",
       "mean    465.634361  12758.606461  11395.844347   294.353891    679.220264   \n",
       "std     175.741647   5449.644597   4839.670179   121.532637    472.914323   \n",
       "min     132.000000      0.000000      0.000000     0.000000     -1.000000   \n",
       "25%     351.000000   9195.000000   8162.000000   213.000000    462.000000   \n",
       "50%     444.000000  12045.000000  10785.000000   279.000000    624.000000   \n",
       "75%     551.000000  15241.000000  13760.000000   354.000000    795.000000   \n",
       "max    1750.000000  49056.000000  43952.000000  1058.000000  10277.000000   \n",
       "\n",
       "               S1          S2          S3  \n",
       "count  681.000000  681.000000  681.000000  \n",
       "mean    68.421439  120.104258  144.759178  \n",
       "std     39.096525   84.828959   69.276285  \n",
       "min     -1.000000   20.000000   26.000000  \n",
       "25%     45.000000   73.000000  100.000000  \n",
       "50%     60.000000  100.000000  134.000000  \n",
       "75%     85.000000  142.000000  173.000000  \n",
       "max    309.000000  944.000000  883.000000  "
      ]
     },
     "execution_count": 5,
     "metadata": {},
     "output_type": "execute_result"
    }
   ],
   "source": [
    "# Some values dont make sesne (like negatives) and P(H) having a zero min - maybe look into when p(h) < p(L)\n",
    "#converting 1 and 0 to true and false\n",
    "ipo_data.C2 = ipo_data.C2.astype(bool)\n",
    "ipo_data.describe()"
   ]
  },
  {
   "cell_type": "code",
   "execution_count": 6,
   "metadata": {},
   "outputs": [
    {
     "name": "stdout",
     "output_type": "stream",
     "text": [
      "5\n",
      "227\n"
     ]
    }
   ],
   "source": [
    "print(np.count_nonzero(ipo_data['P(IPO)'].isnull().values))   \n",
    "print(np.count_nonzero(ipo_data.isnull())) "
   ]
  },
  {
   "cell_type": "code",
   "execution_count": 7,
   "metadata": {},
   "outputs": [
    {
     "data": {
      "text/html": [
       "<div>\n",
       "<style>\n",
       "    .dataframe thead tr:only-child th {\n",
       "        text-align: right;\n",
       "    }\n",
       "\n",
       "    .dataframe thead th {\n",
       "        text-align: left;\n",
       "    }\n",
       "\n",
       "    .dataframe tbody tr th {\n",
       "        vertical-align: top;\n",
       "    }\n",
       "</style>\n",
       "<table border=\"1\" class=\"dataframe\">\n",
       "  <thead>\n",
       "    <tr style=\"text-align: right;\">\n",
       "      <th></th>\n",
       "      <th>I1</th>\n",
       "      <th>I2</th>\n",
       "      <th>I3</th>\n",
       "      <th>P(IPO)</th>\n",
       "      <th>P(H)</th>\n",
       "      <th>P(L)</th>\n",
       "      <th>P(1Day)</th>\n",
       "      <th>C1</th>\n",
       "      <th>C2</th>\n",
       "      <th>C3</th>\n",
       "      <th>...</th>\n",
       "      <th>C6</th>\n",
       "      <th>C7</th>\n",
       "      <th>T1</th>\n",
       "      <th>T2</th>\n",
       "      <th>T3</th>\n",
       "      <th>T4</th>\n",
       "      <th>T5</th>\n",
       "      <th>S1</th>\n",
       "      <th>S2</th>\n",
       "      <th>S3</th>\n",
       "    </tr>\n",
       "  </thead>\n",
       "  <tbody>\n",
       "    <tr>\n",
       "      <th>332</th>\n",
       "      <td>KIPS</td>\n",
       "      <td>Kips Bay Medical, Inc.</td>\n",
       "      <td>3841</td>\n",
       "      <td>8.0</td>\n",
       "      <td>0.00</td>\n",
       "      <td>8.00</td>\n",
       "      <td>7.93000</td>\n",
       "      <td>309.0</td>\n",
       "      <td>False</td>\n",
       "      <td>-0.70</td>\n",
       "      <td>...</td>\n",
       "      <td>2062500.0</td>\n",
       "      <td>0.223</td>\n",
       "      <td>341.0</td>\n",
       "      <td>9314.0</td>\n",
       "      <td>8647.0</td>\n",
       "      <td>218.0</td>\n",
       "      <td>519.0</td>\n",
       "      <td>55.0</td>\n",
       "      <td>119.0</td>\n",
       "      <td>102.0</td>\n",
       "    </tr>\n",
       "    <tr>\n",
       "      <th>416</th>\n",
       "      <td>NPTT</td>\n",
       "      <td>NPTEST HOLDING CORP</td>\n",
       "      <td>3825</td>\n",
       "      <td>12.0</td>\n",
       "      <td>3.00</td>\n",
       "      <td>11.00</td>\n",
       "      <td>11.49000</td>\n",
       "      <td>92.0</td>\n",
       "      <td>True</td>\n",
       "      <td>NaN</td>\n",
       "      <td>...</td>\n",
       "      <td>14600000.0</td>\n",
       "      <td>243.491</td>\n",
       "      <td>411.0</td>\n",
       "      <td>11737.0</td>\n",
       "      <td>10440.0</td>\n",
       "      <td>275.0</td>\n",
       "      <td>784.0</td>\n",
       "      <td>66.0</td>\n",
       "      <td>133.0</td>\n",
       "      <td>289.0</td>\n",
       "    </tr>\n",
       "    <tr>\n",
       "      <th>469</th>\n",
       "      <td>PRGN</td>\n",
       "      <td>Paragon Shipping Inc.</td>\n",
       "      <td>4412</td>\n",
       "      <td>16.0</td>\n",
       "      <td>9.11</td>\n",
       "      <td>9.11</td>\n",
       "      <td>144.99997</td>\n",
       "      <td>67.0</td>\n",
       "      <td>True</td>\n",
       "      <td>0.14</td>\n",
       "      <td>...</td>\n",
       "      <td>10300000.0</td>\n",
       "      <td>4.729</td>\n",
       "      <td>369.0</td>\n",
       "      <td>10227.0</td>\n",
       "      <td>9092.0</td>\n",
       "      <td>231.0</td>\n",
       "      <td>362.0</td>\n",
       "      <td>40.0</td>\n",
       "      <td>67.0</td>\n",
       "      <td>83.0</td>\n",
       "    </tr>\n",
       "  </tbody>\n",
       "</table>\n",
       "<p>3 rows × 22 columns</p>\n",
       "</div>"
      ],
      "text/plain": [
       "       I1                      I2    I3  P(IPO)  P(H)   P(L)    P(1Day)  \\\n",
       "332  KIPS  Kips Bay Medical, Inc.  3841     8.0  0.00   8.00    7.93000   \n",
       "416  NPTT     NPTEST HOLDING CORP  3825    12.0  3.00  11.00   11.49000   \n",
       "469  PRGN   Paragon Shipping Inc.  4412    16.0  9.11   9.11  144.99997   \n",
       "\n",
       "        C1     C2    C3  ...            C6       C7     T1       T2       T3  \\\n",
       "332  309.0  False -0.70  ...     2062500.0    0.223  341.0   9314.0   8647.0   \n",
       "416   92.0   True   NaN  ...    14600000.0  243.491  411.0  11737.0  10440.0   \n",
       "469   67.0   True  0.14  ...    10300000.0    4.729  369.0  10227.0   9092.0   \n",
       "\n",
       "        T4     T5    S1     S2     S3  \n",
       "332  218.0  519.0  55.0  119.0  102.0  \n",
       "416  275.0  784.0  66.0  133.0  289.0  \n",
       "469  231.0  362.0  40.0   67.0   83.0  \n",
       "\n",
       "[3 rows x 22 columns]"
      ]
     },
     "execution_count": 7,
     "metadata": {},
     "output_type": "execute_result"
    }
   ],
   "source": [
    "ipo_data.loc[ipo_data['P(H)'] <= ipo_data['P(L)']]"
   ]
  },
  {
   "cell_type": "code",
   "execution_count": 8,
   "metadata": {},
   "outputs": [
    {
     "data": {
      "text/plain": [
       "<matplotlib.axes._subplots.AxesSubplot at 0x1bd7f24d198>"
      ]
     },
     "execution_count": 8,
     "metadata": {},
     "output_type": "execute_result"
    },
    {
     "data": {
      "image/png": "[encoded data removed]",
      "text/plain": [
       "<matplotlib.figure.Figure at 0x1bd7f24df28>"
      ]
     },
     "metadata": {},
     "output_type": "display_data"
    }
   ],
   "source": [
    "ipo_data.C1.hist()\n",
    "ipo_data['P(IPO)'].plot(kind='hist')\n"
   ]
  },
  {
   "cell_type": "code",
   "execution_count": 9,
   "metadata": {},
   "outputs": [
    {
     "data": {
      "text/plain": [
       "<matplotlib.axes._subplots.AxesSubplot at 0x1bd7f694f28>"
      ]
     },
     "execution_count": 9,
     "metadata": {},
     "output_type": "execute_result"
    },
    {
     "data": {
      "image/png": "[encoded data removed]",
      "text/plain": [
       "<matplotlib.figure.Figure at 0x1bd7f24d080>"
      ]
     },
     "metadata": {},
     "output_type": "display_data"
    }
   ],
   "source": [
    "ipo_data['P(IPO)'].plot(kind='hist')"
   ]
  },
  {
   "cell_type": "code",
   "execution_count": 10,
   "metadata": {},
   "outputs": [
    {
     "data": {
      "text/plain": [
       "<matplotlib.axes._subplots.AxesSubplot at 0x1bd7f1b3e80>"
      ]
     },
     "execution_count": 10,
     "metadata": {},
     "output_type": "execute_result"
    },
    {
     "data": {
      "image/png": "[encoded data removed]",
      "text/plain": [
       "<matplotlib.figure.Figure at 0x1bd7f725dd8>"
      ]
     },
     "metadata": {},
     "output_type": "display_data"
    }
   ],
   "source": [
    "np.log(ipo_data['P(IPO)']).plot(kind='hist',bins=50)"
   ]
  },
  {
   "cell_type": "code",
   "execution_count": 11,
   "metadata": {},
   "outputs": [
    {
     "data": {
      "image/png": "[encoded data removed]",
      "text/plain": [
       "<matplotlib.figure.Figure at 0x1bd7f8dc588>"
      ]
     },
     "metadata": {},
     "output_type": "display_data"
    }
   ],
   "source": [
    "# Creating a grid of charts to see obvious non normal variables\n",
    "# Setting up subplot\n",
    "f, axarr = plt.subplots(3, 6)\n",
    "\n",
    "# Creating first row of histograms\n",
    "axarr[0, 0].hist(ipo_data['P(IPO)'].dropna(),50)\n",
    "axarr[0, 0].set_title('P(IPO)')\n",
    "axarr[0, 1].hist(ipo_data['P(H)'].dropna(),50)\n",
    "axarr[0, 1].set_title('P(H)')\n",
    "axarr[0, 2].hist(ipo_data['P(L)'].dropna(),50)\n",
    "axarr[0, 2].set_title('P[L]')\n",
    "axarr[0, 3].hist(ipo_data['P(1Day)'].dropna(),50)\n",
    "axarr[0, 3].set_title('P(1Day)')\n",
    "axarr[0, 4].hist(ipo_data['C1'].dropna(),50)\n",
    "axarr[0, 4].set_title('C1')\n",
    "axarr[0, 5].hist(ipo_data['C3'].dropna(),50)\n",
    "axarr[0, 5].set_title('C3')\n",
    "\n",
    "# Creating second row of histograms\n",
    "axarr[1, 0].hist(ipo_data['C4'].dropna(),50)\n",
    "axarr[1, 0].set_title('C4')\n",
    "axarr[1, 1].hist(ipo_data['C5'].dropna(),50)\n",
    "axarr[1, 1].set_title('C5')\n",
    "axarr[1, 2].hist(ipo_data['C6'].dropna(),50)\n",
    "axarr[1, 2].set_title('C6')\n",
    "axarr[1, 3].hist(ipo_data['C7'].dropna(),50)\n",
    "axarr[1, 3].set_title('C7')\n",
    "axarr[1, 4].hist(ipo_data['T1'].dropna(),50)\n",
    "axarr[1, 4].set_title('T1')\n",
    "axarr[1, 5].hist(ipo_data['T2'].dropna(),50)\n",
    "axarr[1, 5].set_title('T2')\n",
    "\n",
    "# Creating third row of histograms\n",
    "axarr[2, 0].hist(ipo_data['T3'].dropna(),50)\n",
    "axarr[2, 0].set_title('T3')\n",
    "axarr[2, 1].hist(ipo_data['T4'].dropna(),50)\n",
    "axarr[2, 1].set_title('T4')\n",
    "axarr[2, 2].hist(ipo_data['T5'].dropna(),50)\n",
    "axarr[2, 2].set_title('T5')\n",
    "axarr[2, 3].hist(ipo_data['S1'].dropna(),50)\n",
    "axarr[2, 3].set_title('S1')\n",
    "axarr[2, 4].hist(ipo_data['S2'].dropna(),50)\n",
    "axarr[2, 4].set_title('S2')\n",
    "axarr[2, 5].hist(ipo_data['S3'].dropna(),50)\n",
    "axarr[2, 5].set_title('S3')\n",
    "# Fine-tune figure; make subplots farther from each other.\n",
    "f.subplots_adjust(hspace=1)\n",
    "\n",
    "plt.show()"
   ]
  },
  {
   "cell_type": "code",
   "execution_count": 12,
   "metadata": {},
   "outputs": [
    {
     "data": {
      "image/png": "[encoded data removed]",
      "text/plain": [
       "<matplotlib.figure.Figure at 0x1bd7f887a90>"
      ]
     },
     "metadata": {},
     "output_type": "display_data"
    }
   ],
   "source": [
    "plt.hist(ipo_data['P(IPO)'].dropna(),50)\n",
    "plt.show()"
   ]
  },
  {
   "cell_type": "code",
   "execution_count": 13,
   "metadata": {},
   "outputs": [
    {
     "data": {
      "text/plain": [
       "<matplotlib.axes._subplots.AxesSubplot at 0x1bd01552160>"
      ]
     },
     "execution_count": 13,
     "metadata": {},
     "output_type": "execute_result"
    },
    {
     "data": {
      "image/png": "[encoded data removed]",
      "text/plain": [
       "<matplotlib.figure.Figure at 0x1bd7f887e10>"
      ]
     },
     "metadata": {},
     "output_type": "display_data"
    }
   ],
   "source": [
    "np.log(ipo_data['P(IPO)']).plot(kind='hist',bins=50)"
   ]
  },
  {
   "cell_type": "markdown",
   "metadata": {},
   "source": [
    "#### P(IPO) Histogram\n",
    "Generating histogram of whole data set and minus outliers to check for normality"
   ]
  },
  {
   "cell_type": "code",
   "execution_count": 14,
   "metadata": {},
   "outputs": [
    {
     "data": {
      "text/plain": [
       "<matplotlib.axes._subplots.AxesSubplot at 0x1bd02435b70>"
      ]
     },
     "execution_count": 14,
     "metadata": {},
     "output_type": "execute_result"
    },
    {
     "data": {
      "image/png": "[encoded data removed]",
      "text/plain": [
       "<matplotlib.figure.Figure at 0x1bd02443c88>"
      ]
     },
     "metadata": {},
     "output_type": "display_data"
    }
   ],
   "source": [
    "# Graph of P(IPO)\n",
    "ipo_data['P(IPO)'].plot(kind='hist',bins=50)"
   ]
  },
  {
   "cell_type": "code",
   "execution_count": 15,
   "metadata": {},
   "outputs": [
    {
     "data": {
      "image/png": "[encoded data removed]",
      "text/plain": [
       "<matplotlib.figure.Figure at 0x1bd02593198>"
      ]
     },
     "metadata": {},
     "output_type": "display_data"
    }
   ],
   "source": [
    "ipo_no_outlier=ipo_data['P(IPO)']<=np.mean(ipo_data['P(IPO)'])+3*np.std(ipo_data['P(IPO)'])\n",
    "ipo_no_outlier_d=ipo_data['P(IPO)'][ipo_no_outlier]\n",
    "plt.hist(ipo_no_outlier_d,bins=50)\n",
    "plt.title('P(IPO) No Outliers')\n",
    "plt.show()"
   ]
  },
  {
   "cell_type": "code",
   "execution_count": 16,
   "metadata": {},
   "outputs": [
    {
     "data": {
      "image/png": "[encoded data removed]",
      "text/plain": [
       "<matplotlib.figure.Figure at 0x1bd025a91d0>"
      ]
     },
     "metadata": {},
     "output_type": "display_data"
    }
   ],
   "source": [
    "# Log transform of whole data and no outlier data\n",
    "log_ipo_data=np.log(ipo_data['P(IPO)'])\n",
    "log_ipo_no_outlier=np.log(ipo_no_outlier_d)\n",
    "\n",
    "#f, axarr = plt.subplots(2, 1)\n",
    "# axarr[1, 0].hist(log_ipo_data.dropna(),50)\n",
    "# axarr[1, 0].set_title('Outlier P(IPO)')\n",
    "\n",
    "# axarr[0, 1].hist(log_ipo_no_outlier.dropna(),50)\n",
    "# axarr[0, 1].set_title('No Outlier P(IPO)')\n",
    "\n",
    "plt.hist(log_ipo_data.dropna(),50)\n",
    "\n",
    "plt.title('P(IPO) Log Transform')\n",
    "plt.show()"
   ]
  },
  {
   "cell_type": "code",
   "execution_count": 17,
   "metadata": {},
   "outputs": [
    {
     "data": {
      "image/png": "[encoded data removed]",
      "text/plain": [
       "<matplotlib.figure.Figure at 0x1bd027129e8>"
      ]
     },
     "metadata": {},
     "output_type": "display_data"
    }
   ],
   "source": [
    "plt.hist(log_ipo_no_outlier.dropna(),50)\n",
    "plt.title('P(IPO) No Outlier Log Transform')\n",
    "plt.show()"
   ]
  },
  {
   "cell_type": "markdown",
   "metadata": {},
   "source": [
    "#### P(H) Histogram\n",
    "Generating histogram of whole data set and minus outliers to check for normality"
   ]
  },
  {
   "cell_type": "code",
   "execution_count": 18,
   "metadata": {},
   "outputs": [
    {
     "data": {
      "text/plain": [
       "<matplotlib.axes._subplots.AxesSubplot at 0x1bd02870048>"
      ]
     },
     "execution_count": 18,
     "metadata": {},
     "output_type": "execute_result"
    },
    {
     "data": {
      "image/png": "[encoded data removed]",
      "text/plain": [
       "<matplotlib.figure.Figure at 0x1bd01f0f7f0>"
      ]
     },
     "metadata": {},
     "output_type": "display_data"
    }
   ],
   "source": [
    "# Graph of P(IPO)\n",
    "ipo_data['P(H)'].plot(kind='hist',bins=50)"
   ]
  },
  {
   "cell_type": "code",
   "execution_count": 25,
   "metadata": {},
   "outputs": [
    {
     "data": {
      "image/png": "[encoded data removed]",
      "text/plain": [
       "<matplotlib.figure.Figure at 0x1bd02ecefd0>"
      ]
     },
     "metadata": {},
     "output_type": "display_data"
    }
   ],
   "source": [
    "# Removing outliers and plotting\n",
    "h_no_outlier=ipo_data['P(H)']<=np.mean(ipo_data['P(H)'])+3*np.std(ipo_data['P(H)'])\n",
    "h_no_outlier_d=ipo_data['P(H)'][h_no_outlier]\n",
    "plt.hist(h_no_outlier_d,bins=50,normed=True)\n",
    "xt = plt.xticks()[0]  \n",
    "xmin, xmax = min(xt), max(xt)  \n",
    "lnspc = np.linspace(xmin, xmax, len(h_no_outlier_d))\n",
    "\n",
    "# lets try the normal distribution first\n",
    "m, s = stats.norm.fit(h_no_outlier_d) # get mean and standard deviation  \n",
    "pdf_g = stats.norm.pdf(lnspc, m, s) # now get theoretical values in our interval  \n",
    "plt.plot(lnspc, pdf_g, label=\"Norm\")\n",
    "plt.show()"
   ]
  },
  {
   "cell_type": "code",
   "execution_count": 20,
   "metadata": {},
   "outputs": [
    {
     "data": {
      "text/plain": [
       "count    671.000000\n",
       "mean      15.504262\n",
       "std        6.631436\n",
       "min        3.000000\n",
       "25%       12.750000\n",
       "50%       15.000000\n",
       "75%       17.000000\n",
       "max      135.000000\n",
       "Name: P(H), dtype: float64"
      ]
     },
     "execution_count": 20,
     "metadata": {},
     "output_type": "execute_result"
    }
   ],
   "source": [
    "# Log transform of whole data and no outlier data\n",
    "# Only taking greater than 0 and checking new data\n",
    "\n",
    "greater=ipo_data['P(H)']>0\n",
    "greater_no_out=h_no_outlier_d>0\n",
    "\n",
    "ipo_data['P(H)'][greater].describe()\n",
    "\n"
   ]
  },
  {
   "cell_type": "code",
   "execution_count": 21,
   "metadata": {},
   "outputs": [
    {
     "data": {
      "text/plain": [
       "count    664.000000\n",
       "mean      15.086386\n",
       "std        4.050687\n",
       "min        3.000000\n",
       "25%       12.375000\n",
       "50%       15.000000\n",
       "75%       17.000000\n",
       "max       30.000000\n",
       "Name: P(H), dtype: float64"
      ]
     },
     "execution_count": 21,
     "metadata": {},
     "output_type": "execute_result"
    }
   ],
   "source": [
    "h_no_outlier_d[greater_no_out].describe()"
   ]
  },
  {
   "cell_type": "code",
   "execution_count": 22,
   "metadata": {},
   "outputs": [
    {
     "data": {
      "image/png": "[encoded data removed]",
      "text/plain": [
       "<matplotlib.figure.Figure at 0x1bd02b8dd68>"
      ]
     },
     "metadata": {},
     "output_type": "display_data"
    }
   ],
   "source": [
    "\n",
    "log_h_data=np.log(ipo_data['P(H)'][greater])\n",
    "log_h_no_outlier=np.log(h_no_outlier_d[greater_no_out])\n",
    "\n",
    "plt.hist(log_h_data.dropna(),50,normed=True)\n",
    "\n",
    "xt = plt.xticks()[0]  \n",
    "xmin, xmax = min(xt), max(xt)  \n",
    "lnspc = np.linspace(xmin, xmax, len(log_h_data))\n",
    "\n",
    "# lets try the normal distribution first\n",
    "m, s = stats.norm.fit(log_h_data) # get mean and standard deviation  \n",
    "pdf_g = stats.norm.pdf(lnspc, m, s) # now get theoretical values in our interval  \n",
    "plt.plot(lnspc, pdf_g, label=\"Norm\")\n",
    "plt.show()"
   ]
  },
  {
   "cell_type": "code",
   "execution_count": 23,
   "metadata": {},
   "outputs": [
    {
     "data": {
      "image/png": "[encoded data removed]",
      "text/plain": [
       "<matplotlib.figure.Figure at 0x1bd02c465f8>"
      ]
     },
     "metadata": {},
     "output_type": "display_data"
    }
   ],
   "source": [
    "\n",
    "plt.hist(log_h_no_outlier.dropna(),50,normed=True)\n",
    "plt.title('P(H) No Outlier Log Transform')\n",
    "xt = plt.xticks()[0]  \n",
    "xmin, xmax = min(xt), max(xt)  \n",
    "lnspc = np.linspace(xmin, xmax, len(log_h_no_outlier))\n",
    "\n",
    "# lets try the normal distribution first\n",
    "m, s = stats.norm.fit(log_h_no_outlier) # get mean and standard deviation  \n",
    "pdf_g = stats.norm.pdf(lnspc, m, s) # now get theoretical values in our interval  \n",
    "plt.plot(lnspc, pdf_g, label=\"Norm\")\n",
    "\n",
    "plt.show()"
   ]
  },
  {
   "cell_type": "code",
   "execution_count": null,
   "metadata": {
    "collapsed": true
   },
   "outputs": [],
   "source": []
  },
  {
   "cell_type": "code",
   "execution_count": null,
   "metadata": {
    "collapsed": true
   },
   "outputs": [],
   "source": []
  }
 ],
 "metadata": {
  "kernelspec": {
   "display_name": "Python 3",
   "language": "python",
   "name": "python3"
  },
  "language_info": {
   "codemirror_mode": {
    "name": "ipython",
    "version": 3
   },
   "file_extension": ".py",
   "mimetype": "text/x-python",
   "name": "python",
   "nbconvert_exporter": "python",
   "pygments_lexer": "ipython3",
   "version": "3.6.1"
  }
 },
 "nbformat": 4,
 "nbformat_minor": 2
}
