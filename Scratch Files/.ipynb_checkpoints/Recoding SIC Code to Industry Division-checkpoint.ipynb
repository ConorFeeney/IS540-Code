{
 "cells": [
  {
   "cell_type": "code",
   "execution_count": 47,
   "metadata": {
    "collapsed": false
   },
   "outputs": [],
   "source": [
    "import numpy as np\n",
    "\n",
    "import pandas as pd\n",
    "import sklearn as sk\n",
    "import seaborn as sb\n",
    "import datetime as dt\n",
    "import matplotlib.pyplot as plt\n",
    "from sklearn import preprocessing\n",
    "from sklearn.linear_model import LogisticRegression\n",
    "from sklearn.cross_validation import train_test_split\n",
    "from sklearn import metrics \n",
    "from sklearn.metrics import classification_report\n",
    "\n",
    "from sklearn.cross_validation import cross_val_score\n",
    "%matplotlib inline"
   ]
  },
  {
   "cell_type": "code",
   "execution_count": 48,
   "metadata": {
    "collapsed": false
   },
   "outputs": [],
   "source": [
    "#read in data and update data type to boolean for C2\n",
    "ipo_data = pd.read_excel(\"Competition #1 Raw Data_UPDATED I3.xlsx\",header=0,na_values='-' )\n",
    "ipo_data.C2 = ipo_data.C2.astype(bool)\n"
   ]
  },
  {
   "cell_type": "code",
   "execution_count": 49,
   "metadata": {
    "collapsed": false
   },
   "outputs": [],
   "source": [
    "def Industry_Division(row):\n",
    "    \n",
    "    if (row['I3']> 99 and row['I3']< 1000) :\n",
    "        return 'A'\n",
    "    elif (row['I3']> 999 and row['I3']< 1500):\n",
    "        return  'B'\n",
    "    elif (row['I3']> 1499 and row['I3']< 1800):\n",
    "        return 'C'\n",
    "    elif (row['I3']> 1999 and row['I3']< 4000):\n",
    "        return 'D'\n",
    "    elif (row['I3']> 3999 and row['I3']< 5000):\n",
    "        return 'E'\n",
    "    elif (row['I3']> 4999 and row['I3']< 5200):\n",
    "        return 'F'\n",
    "    elif (row['I3']> 5199 and row['I3']< 6000):\n",
    "        return 'G'\n",
    "    elif (row['I3']> 5999 and row['I3']< 6800):\n",
    "        return 'H'\n",
    "    elif (row['I3']> 6999 and row['I3']< 9000):\n",
    "        return 'I'\n",
    "    elif (row['I3']> 9099 and row['I3']< 9730):\n",
    "        return 'J'\n",
    "    elif (row['I3']> 9899 and row['I3']< 10000):\n",
    "        return 'K'\n",
    "    else:\n",
    "        return 'L'\n",
    "        \n"
   ]
  },
  {
   "cell_type": "code",
   "execution_count": 50,
   "metadata": {
    "collapsed": true
   },
   "outputs": [],
   "source": [
    "    # Add the new data to the end of the table\n",
    "    ipo_data['IndDivision'] = ipo_data.apply(Industry_Division, axis=1)\n"
   ]
  },
  {
   "cell_type": "code",
   "execution_count": 51,
   "metadata": {
    "collapsed": false
   },
   "outputs": [
    {
     "name": "stdout",
     "output_type": "stream",
     "text": [
      "     I1                           I2    I3  P(IPO)  P(H)  P(L)     P(1Day)  \\\n",
      "0    RA         RAILAMERICA INC /DE   4011   15.00  18.0  16.0   13.750000   \n",
      "1     G                 Genpact LTD   8742   14.00  18.0  16.0   16.750000   \n",
      "2  HURN  Huron Consulting Group Inc.  8742   15.00  16.0  14.0   18.900000   \n",
      "3  ICFI     ICF International, Inc.   8742   12.00  16.0  14.0   12.250000   \n",
      "4  SRVY       GREENFIELD ONLINE INC   8742   13.00  15.0  13.0   18.700001   \n",
      "5  WAGE             WAGEWORKS, INC.   8742    9.00  12.0  10.0   12.600000   \n",
      "6  XPRT                   LECG CORP   8742   17.00  16.0  14.0   21.030001   \n",
      "7  BHRT         U.S. Stem Cell, Inc.  8731    5.25  16.0  14.0    5.000000   \n",
      "8  GEVO                  Gevo, Inc.   8731   15.00  15.0  13.0  246.600250   \n",
      "9  GNOM       COMPLETE GENOMICS INC   8731    9.00  14.0  12.0    8.030000   \n",
      "\n",
      "      C1     C2     C3                        ...                          \\\n",
      "0   77.0   True   0.30                        ...                           \n",
      "1   83.0   True   0.19                        ...                           \n",
      "2  153.0   True  -0.14                        ...                           \n",
      "3  140.0   True   0.22                        ...                           \n",
      "4   95.0   True   0.07                        ...                           \n",
      "5  381.0  False   1.28                        ...                           \n",
      "6   81.0   True  -1.41                        ...                           \n",
      "7  371.0  False  -0.70                        ...                           \n",
      "8  181.0   True -24.45                        ...                           \n",
      "9  104.0   True  -1.39                        ...                           \n",
      "\n",
      "        C7     T1       T2       T3     T4      T5     S1     S2     S3  \\\n",
      "0  508.466  463.0  13494.0  11684.0  329.0   592.0   92.0  204.0   90.0   \n",
      "1  617.977  641.0  15238.0  13795.0  360.0   727.0   92.0  113.0  184.0   \n",
      "2  110.294  314.0   9689.0   8471.0  226.0   512.0   30.0   48.0   79.0   \n",
      "3  177.218  453.0  11082.0  10081.0  261.0   575.0   63.0   73.0  176.0   \n",
      "4   25.868  409.0  10417.0   9371.0  266.0   501.0   70.0   96.0  125.0   \n",
      "5  135.637  677.0  20084.0  18632.0  474.0  1026.0  132.0  160.0  234.0   \n",
      "6  133.704  285.0   7834.0   6955.0  182.0   395.0   16.0   46.0   92.0   \n",
      "7      NaN  374.0  11812.0  10743.0  242.0   515.0   50.0   92.0  100.0   \n",
      "8   16.396  522.0  16504.0  14728.0  367.0   888.0   89.0  140.0  174.0   \n",
      "9    0.623  469.0  14556.0  13287.0  338.0   795.0   60.0  144.0  203.0   \n",
      "\n",
      "                                         IndDivision  \n",
      "0  Transportation, Communications, Electric, Gas ...  \n",
      "1                                           Services  \n",
      "2                                           Services  \n",
      "3                                           Services  \n",
      "4                                           Services  \n",
      "5                                           Services  \n",
      "6                                           Services  \n",
      "7                                           Services  \n",
      "8                                           Services  \n",
      "9                                           Services  \n",
      "\n",
      "[10 rows x 23 columns]\n"
     ]
    }
   ],
   "source": [
    "print (ipo_data.head(10))"
   ]
  }
 ],
 "metadata": {
  "kernelspec": {
   "display_name": "Python 3",
   "language": "python",
   "name": "python3"
  },
  "language_info": {
   "codemirror_mode": {
    "name": "ipython",
    "version": 3
   },
   "file_extension": ".py",
   "mimetype": "text/x-python",
   "name": "python",
   "nbconvert_exporter": "python",
   "pygments_lexer": "ipython3",
   "version": "3.6.0"
  }
 },
 "nbformat": 4,
 "nbformat_minor": 2
}
