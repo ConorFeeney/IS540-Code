{
 "cells": [
  {
   "cell_type": "code",
   "execution_count": 1,
   "metadata": {
    "collapsed": false
   },
   "outputs": [
    {
     "name": "stderr",
     "output_type": "stream",
     "text": [
      "C:\\Users\\danielle.ezzo\\AppData\\Local\\Continuum\\Anaconda3\\lib\\site-packages\\sklearn\\cross_validation.py:44: DeprecationWarning: This module was deprecated in version 0.18 in favor of the model_selection module into which all the refactored classes and functions are moved. Also note that the interface of the new CV iterators are different from that of this module. This module will be removed in 0.20.\n",
      "  \"This module will be removed in 0.20.\", DeprecationWarning)\n"
     ]
    }
   ],
   "source": [
    "import numpy as np\n",
    "\n",
    "import pandas as pd\n",
    "import sklearn as sk\n",
    "import seaborn as sb\n",
    "import datetime as dt\n",
    "import matplotlib.pyplot as plt\n",
    "from sklearn import preprocessing\n",
    "from sklearn.linear_model import LogisticRegression\n",
    "from sklearn.cross_validation import train_test_split\n",
    "from sklearn import metrics \n",
    "from sklearn.metrics import classification_report\n",
    "\n",
    "from sklearn.cross_validation import cross_val_score\n",
    "%matplotlib inline"
   ]
  },
  {
   "cell_type": "code",
   "execution_count": 2,
   "metadata": {
    "collapsed": false
   },
   "outputs": [],
   "source": [
    "#read in data and update data type to boolean for C2\n",
    "ipo_data = pd.read_excel(\"Competition #1 Raw Data_UPDATED I3.xlsx\",header=0,na_values='-' )\n",
    "ipo_data.C2 = ipo_data.C2.astype(bool)\n"
   ]
  },
  {
   "cell_type": "code",
   "execution_count": 3,
   "metadata": {
    "collapsed": false
   },
   "outputs": [],
   "source": [
    "def Industry_Division(row):\n",
    "    \n",
    "    if (row['I3']> 99 and row['I3']< 1000) :\n",
    "        return 'A' ## Agriculture, Forestry and Fishing\n",
    "    elif (row['I3']> 999 and row['I3']< 1500):\n",
    "        return  'B' ## Mining\n",
    "    elif (row['I3']> 1499 and row['I3']< 1800):\n",
    "        return 'C' ## Construction\n",
    "    elif (row['I3']> 1999 and row['I3']< 4000):\n",
    "        return 'D' ## Manufacturing\n",
    "    elif (row['I3']> 3999 and row['I3']< 5000):\n",
    "        return 'E' ## Transportation, Communications, Electric, Gas and Sanitary service\n",
    "    elif (row['I3']> 4999 and row['I3']< 5200):\n",
    "        return 'F' ## Wholesale Trade\n",
    "    elif (row['I3']> 5199 and row['I3']< 6000):\n",
    "        return 'G' ## Retail Trade\n",
    "    elif (row['I3']> 5999 and row['I3']< 6800):\n",
    "        return 'H' ## Finance, Insurance and Real Estate\n",
    "    elif (row['I3']> 6999 and row['I3']< 9000):\n",
    "        return 'I' ## Services\n",
    "    elif (row['I3']> 9099 and row['I3']< 9730):\n",
    "        return 'J' ## Public Admin\n",
    "    elif (row['I3']> 9899 and row['I3']< 10000):\n",
    "        return 'K' ## NonClassifiable\n",
    "    else:\n",
    "        return 'L' ## Missing\n",
    "        \n"
   ]
  },
  {
   "cell_type": "code",
   "execution_count": 4,
   "metadata": {
    "collapsed": true
   },
   "outputs": [],
   "source": [
    "    # Add the new data to the end of the table\n",
    "    ipo_data['IndDivision'] = ipo_data.apply(Industry_Division, axis=1)\n"
   ]
  },
  {
   "cell_type": "code",
   "execution_count": 5,
   "metadata": {
    "collapsed": false
   },
   "outputs": [
    {
     "data": {
      "text/plain": [
       "D    308\n",
       "I    204\n",
       "E     62\n",
       "G     48\n",
       "B     31\n",
       "F     15\n",
       "H      9\n",
       "C      3\n",
       "A      2\n",
       "Name: IndDivision, dtype: int64"
      ]
     },
     "execution_count": 5,
     "metadata": {},
     "output_type": "execute_result"
    }
   ],
   "source": [
    "##Does this balance seem right?\n",
    "ipo_data[\"IndDivision\"].value_counts()"
   ]
  },
  {
   "cell_type": "code",
   "execution_count": null,
   "metadata": {
    "collapsed": true
   },
   "outputs": [],
   "source": []
  }
 ],
 "metadata": {
  "kernelspec": {
   "display_name": "Python 3",
   "language": "python",
   "name": "python3"
  },
  "language_info": {
   "codemirror_mode": {
    "name": "ipython",
    "version": 3
   },
   "file_extension": ".py",
   "mimetype": "text/x-python",
   "name": "python",
   "nbconvert_exporter": "python",
   "pygments_lexer": "ipython3",
   "version": "3.6.0"
  }
 },
 "nbformat": 4,
 "nbformat_minor": 2
}
