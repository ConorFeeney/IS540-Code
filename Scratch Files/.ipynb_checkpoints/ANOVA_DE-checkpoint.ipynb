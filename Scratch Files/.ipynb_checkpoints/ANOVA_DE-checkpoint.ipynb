{
 "cells": [
  {
   "cell_type": "code",
   "execution_count": 8,
   "metadata": {
    "collapsed": false
   },
   "outputs": [],
   "source": [
    "import numpy as np\n",
    "\n",
    "import pandas as pd\n",
    "import sklearn as sk\n",
    "import seaborn as sb\n",
    "import datetime as dt\n",
    "import scipy\n",
    "import matplotlib.pyplot as plt\n",
    "import statsmodels\n",
    "import statsmodels.api as sm\n",
    "from scipy import stats\n",
    "from statsmodels.formula.api import ols\n",
    "from sklearn import preprocessing\n",
    "from sklearn.linear_model import LogisticRegression\n",
    "from sklearn.cross_validation import train_test_split\n",
    "from sklearn import metrics \n",
    "from sklearn.metrics import classification_report\n",
    "from scipy.stats import chi2_contingency\n",
    "from Recoding_SIC_Codes_Tech import Tech\n",
    "\n",
    "from sklearn.cross_validation import cross_val_score\n",
    "%matplotlib inline\n"
   ]
  },
  {
   "cell_type": "code",
   "execution_count": 9,
   "metadata": {
    "collapsed": true
   },
   "outputs": [],
   "source": [
    "#read in data and update data type to boolean for C2\n",
    "ipo_data = pd.read_excel(\"Competition #1 Raw Data_UPDATED I3.xlsx\",header=0,na_values='-' )\n",
    "ipo_data.C2 = ipo_data.C2.astype(bool)\n",
    "\n",
    "#replace missing values with mean\n",
    "ipo_data = ipo_data.fillna(ipo_data.mean())\n",
    "# Removing 0 and negatives for T' calculations        \n",
    "ipo_data['T2']=ipo_data['T2'].mask(ipo_data['T2'] <= 0,ipo_data['T2'].mean())\n",
    "ipo_data['T1']=ipo_data['T1'].mask(ipo_data['T1'] <= 0,ipo_data['T1'].mean())\n",
    "ipo_data['T3']=ipo_data['T3'].mask(ipo_data['T3'] <= 0,ipo_data['T3'].mean())\n",
    "ipo_data['T4']=ipo_data['T4'].mask(ipo_data['T4'] <= 0,ipo_data['T4'].mean())\n",
    "ipo_data['T5']=ipo_data['T5'].mask(ipo_data['T5'] <= 0,ipo_data['T5'].mean())\n",
    "ipo_data['S1']=ipo_data['S1'].mask(ipo_data['S1'] <= 0,ipo_data['S1'].mean())"
   ]
  },
  {
   "cell_type": "code",
   "execution_count": 10,
   "metadata": {
    "collapsed": false
   },
   "outputs": [],
   "source": [
    "from new_var import calc,y1function,y2function,C3function,C6function\n",
    "\n",
    "# Creating our target and control variables\n",
    "ipo_data['Y1'] = ipo_data.apply(y1function, axis=1)\n",
    "ipo_data['Y2'] = ipo_data.apply(y2function, axis=1)\n",
    "ipo_data['C3x'] = ipo_data.apply(C3function, axis=1)\n",
    "ipo_data['C6x'] = ipo_data.apply(C6function, axis=1)\n",
    "\n",
    "#Creating ratios for the words, sentences and postive/negative counts. Ratios provide insight\n",
    "calc(ipo_data)"
   ]
  },
  {
   "cell_type": "code",
   "execution_count": 11,
   "metadata": {
    "collapsed": true
   },
   "outputs": [],
   "source": [
    "ipo_data['T5xbin'] = 0\n",
    "# ipo_data.loc[(ipo_data['T5x'] >= 0.080692),'T5xbin'] = 1\n",
    "ipo_data.loc[(ipo_data['T5x'] >= 0) & (ipo_data['T5x'] < .0474),'T5xbin'] = 1\n",
    "ipo_data.loc[(ipo_data['T5x'] >= .047401) & (ipo_data['T5x'] < .0519), 'T5xbin'] = 2\n",
    "ipo_data.loc[(ipo_data['T5x'] >= .051901) & (ipo_data['T5x'] < .05647), 'T5xbin'] = 3\n",
    "ipo_data.loc[ipo_data[ 'T5x'] >= .0564701,'T5xbin'] = 4\n",
    "\n",
    "ipo_data['T3xbin'] = 0\n",
    "# ipo_data.loc[(ipo_data['T3x'] < 0.897133),'T3xbin'] = 0\n",
    "# ipo_data.loc[(ipo_data['T3x'] >= 0.897133),'T3xbin'] = 1\n",
    "ipo_data.loc[(ipo_data['T3x'] >= 0.703925) & (ipo_data['T3x'] < 0.883578),'T3xbin'] = 1\n",
    "ipo_data.loc[(ipo_data['T3x'] >= .883578) & (ipo_data['T3x'] < 0.897133), 'T3xbin'] = 2\n",
    "ipo_data.loc[(ipo_data['T3x'] >= .897133) & (ipo_data['T3x'] < 0.909732), 'T3xbin'] = 3\n",
    "ipo_data.loc[ipo_data[ 'T3x'] >= 0.909732,'T3xbin'] = 4"
   ]
  },
  {
   "cell_type": "code",
   "execution_count": 12,
   "metadata": {
    "collapsed": false
   },
   "outputs": [],
   "source": [
    "ipo_data['Tech'] = ipo_data.apply(Tech, axis=1)"
   ]
  },
  {
   "cell_type": "code",
   "execution_count": 13,
   "metadata": {
    "collapsed": false
   },
   "outputs": [
    {
     "data": {
      "text/plain": [
       "F_onewayResult(statistic=0.62158396306519992, pvalue=0.43073404305586327)"
      ]
     },
     "execution_count": 13,
     "metadata": {},
     "output_type": "execute_result"
    }
   ],
   "source": [
    "#set up Tech/non tech groups\n",
    "Tech=ipo_data.query('Tech == 1')\n",
    "NonTech=ipo_data.query('Tech == 0')\n",
    "\n",
    "#Get cross section with continuous variable\n",
    "T=Tech['P(IPO)']\n",
    "N=NonTech['P(IPO)']\n",
    "#run anova\n",
    "stats.f_oneway(T, N) "
   ]
  },
  {
   "cell_type": "code",
   "execution_count": 14,
   "metadata": {
    "collapsed": false
   },
   "outputs": [
    {
     "data": {
      "text/plain": [
       "F_onewayResult(statistic=0.44142608288789148, pvalue=0.50666017533271501)"
      ]
     },
     "execution_count": 14,
     "metadata": {},
     "output_type": "execute_result"
    }
   ],
   "source": [
    "#Get cross section with continuous variable\n",
    "T=Tech['C1']\n",
    "N=NonTech['C1']\n",
    "#run anova\n",
    "stats.f_oneway(T, N) "
   ]
  },
  {
   "cell_type": "code",
   "execution_count": 15,
   "metadata": {
    "collapsed": false
   },
   "outputs": [
    {
     "name": "stdout",
     "output_type": "stream",
     "text": [
      "Variable C3x Result F_onewayResult(statistic=0.13348488986091356, pvalue=0.714959413649914)\n",
      "Variable C1 Result F_onewayResult(statistic=0.44142608288789148, pvalue=0.50666017533271501)\n",
      "Variable T4x Result F_onewayResult(statistic=5.3744024535836754, pvalue=0.020730079239421859)\n",
      "Variable S1x Result F_onewayResult(statistic=1.5250021156928752, pvalue=0.21729061772086999)\n",
      "Variable S2x Result F_onewayResult(statistic=5.6541376061953041, pvalue=0.017689664397182038)\n",
      "Variable S3x Result F_onewayResult(statistic=0.64742639306332128, pvalue=0.42131553944076228)\n",
      "Variable C2 Result F_onewayResult(statistic=0.22513236614013357, pvalue=0.6353091649451269)\n",
      "Variable T2 Result F_onewayResult(statistic=10.587856969640074, pvalue=0.0011946749353609117)\n",
      "Variable T1 Result F_onewayResult(statistic=7.9412445013329656, pvalue=0.004972440380415848)\n"
     ]
    }
   ],
   "source": [
    "for i in (['C3x','C1','T4x','S1x','S2x','S3x','C2','T2','T1']):\n",
    "    T=Tech[i]\n",
    "    N=NonTech[i]\n",
    "        #run anova\n",
    "    anova = stats.f_oneway(T, N)\n",
    "    print('Variable {} Result {}'.format(i,anova))"
   ]
  },
  {
   "cell_type": "code",
   "execution_count": null,
   "metadata": {
    "collapsed": true
   },
   "outputs": [],
   "source": [
    "#set up Tech/non tech groups\n",
    "Tech=ipo_data.query('Tech == 1')\n",
    "NonTech=ipo_data.query('Tech == 0')"
   ]
  }
 ],
 "metadata": {
  "kernelspec": {
   "display_name": "Python 3",
   "language": "python",
   "name": "python3"
  },
  "language_info": {
   "codemirror_mode": {
    "name": "ipython",
    "version": 3
   },
   "file_extension": ".py",
   "mimetype": "text/x-python",
   "name": "python",
   "nbconvert_exporter": "python",
   "pygments_lexer": "ipython3",
   "version": "3.6.0"
  }
 },
 "nbformat": 4,
 "nbformat_minor": 2
}
