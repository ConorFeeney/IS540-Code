{
 "cells": [
  {
   "cell_type": "code",
   "execution_count": 2,
   "metadata": {},
   "outputs": [
    {
     "name": "stderr",
     "output_type": "stream",
     "text": [
      "C:\\Users\\conor\\Anaconda3\\lib\\site-packages\\sklearn\\cross_validation.py:41: DeprecationWarning: This module was deprecated in version 0.18 in favor of the model_selection module into which all the refactored classes and functions are moved. Also note that the interface of the new CV iterators are different from that of this module. This module will be removed in 0.20.\n",
      "  \"This module will be removed in 0.20.\", DeprecationWarning)\n"
     ]
    }
   ],
   "source": [
    "import numpy as np\n",
    "\n",
    "import pandas as pd\n",
    "import sklearn as sk\n",
    "import seaborn as sb\n",
    "import datetime as dt\n",
    "import matplotlib.pyplot as plt\n",
    "from sklearn import preprocessing\n",
    "from sklearn.linear_model import LogisticRegression\n",
    "from sklearn.cross_validation import train_test_split\n",
    "from sklearn import metrics \n",
    "from sklearn.metrics import classification_report\n",
    "\n",
    "from sklearn.cross_validation import cross_val_score\n",
    "%matplotlib inline\n"
   ]
  },
  {
   "cell_type": "code",
   "execution_count": 3,
   "metadata": {
    "collapsed": true
   },
   "outputs": [],
   "source": [
    "#read in data and update data type to boolean for C2\n",
    "ipo_data = pd.read_excel(\"Competation #1 Raw Data_New.xlsx\",header=0,na_values='-' )\n",
    "ipo_data.C2 = ipo_data.C2.astype(bool)#replace missing values with mean"
   ]
  },
  {
   "cell_type": "code",
   "execution_count": 4,
   "metadata": {
    "collapsed": true
   },
   "outputs": [],
   "source": [
    "#standardize by decimal scale for float columns\n",
    "for i in range(len(ipo_data.columns)):\n",
    "    if ipo_data.iloc[:,i].dtype == float:\n",
    "        ipo_data.iloc[:,i] = (ipo_data.iloc[:,i])/(10**len(str(int(max(ipo_data.iloc[:,i]))))) "
   ]
  },
  {
   "cell_type": "code",
   "execution_count": 6,
   "metadata": {},
   "outputs": [
    {
     "name": "stdout",
     "output_type": "stream",
     "text": [
      "           P(IPO)        P(H)        P(L)     P(1Day)          C1          C3  \\\n",
      "count  677.000000  672.000000  672.000000  660.000000  660.000000  646.000000   \n",
      "mean     0.138377    0.015481    0.013515    0.002593    0.014973    0.000179   \n",
      "std      0.060537    0.006653    0.005836    0.007323    0.015282    0.016267   \n",
      "min      0.030000    0.000000    0.003000    0.000000    0.001000   -0.078624   \n",
      "25%      0.100000    0.012500    0.011000    0.001100    0.008500   -0.000085   \n",
      "50%      0.135000    0.015000    0.013000    0.001485    0.010700    0.000001   \n",
      "75%      0.170000    0.017000    0.015000    0.002048    0.015525    0.000047   \n",
      "max      0.850000    0.135000    0.108000    0.115920    0.208700    0.386450   \n",
      "\n",
      "               C4          C5          C6            C7          T1  \\\n",
      "count  660.000000  676.000000  676.000000  6.100000e+02  681.000000   \n",
      "mean     0.000728    0.004936    0.012415  5.004600e-03    0.046563   \n",
      "std      0.003332    0.010438    0.025129  1.648338e-02    0.017574   \n",
      "min     -0.016235    0.000369    0.000525  7.400000e-07    0.013200   \n",
      "25%     -0.001393    0.001871    0.005000  3.724575e-04    0.035100   \n",
      "50%      0.000912    0.002740    0.007399  1.038330e-03    0.044400   \n",
      "75%      0.003157    0.004981    0.012000  3.311380e-03    0.055100   \n",
      "max      0.009290    0.213809    0.421234  3.068300e-01    0.175000   \n",
      "\n",
      "               T2          T3          T4          T5          S1          S2  \\\n",
      "count  681.000000  681.000000  681.000000  681.000000  681.000000  681.000000   \n",
      "mean     0.127586    0.113958    0.029435    0.006792    0.068421    0.120104   \n",
      "std      0.054496    0.048397    0.012153    0.004729    0.039097    0.084829   \n",
      "min      0.000000    0.000000    0.000000   -0.000010   -0.001000    0.020000   \n",
      "25%      0.091950    0.081620    0.021300    0.004620    0.045000    0.073000   \n",
      "50%      0.120450    0.107850    0.027900    0.006240    0.060000    0.100000   \n",
      "75%      0.152410    0.137600    0.035400    0.007950    0.085000    0.142000   \n",
      "max      0.490560    0.439520    0.105800    0.102770    0.309000    0.944000   \n",
      "\n",
      "               S3  \n",
      "count  681.000000  \n",
      "mean     0.144759  \n",
      "std      0.069276  \n",
      "min      0.026000  \n",
      "25%      0.100000  \n",
      "50%      0.134000  \n",
      "75%      0.173000  \n",
      "max      0.883000  \n"
     ]
    }
   ],
   "source": [
    "#confirm standardization worked\n",
    "print(ipo_data.describe())"
   ]
  },
  {
   "cell_type": "code",
   "execution_count": null,
   "metadata": {
    "collapsed": true
   },
   "outputs": [],
   "source": []
  }
 ],
 "metadata": {
  "kernelspec": {
   "display_name": "Python 3",
   "language": "python",
   "name": "python3"
  },
  "language_info": {
   "codemirror_mode": {
    "name": "ipython",
    "version": 3
   },
   "file_extension": ".py",
   "mimetype": "text/x-python",
   "name": "python",
   "nbconvert_exporter": "python",
   "pygments_lexer": "ipython3",
   "version": "3.6.1"
  }
 },
 "nbformat": 4,
 "nbformat_minor": 2
}
