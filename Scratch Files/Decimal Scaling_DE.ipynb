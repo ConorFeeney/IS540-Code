{
 "cells": [
  {
   "cell_type": "code",
   "execution_count": 1,
   "metadata": {},
   "outputs": [
    {
     "name": "stderr",
     "output_type": "stream",
     "text": [
      "C:\\Users\\danielle.ezzo\\AppData\\Local\\Continuum\\Anaconda3\\lib\\site-packages\\sklearn\\cross_validation.py:44: DeprecationWarning: This module was deprecated in version 0.18 in favor of the model_selection module into which all the refactored classes and functions are moved. Also note that the interface of the new CV iterators are different from that of this module. This module will be removed in 0.20.\n",
      "  \"This module will be removed in 0.20.\", DeprecationWarning)\n"
     ]
    }
   ],
   "source": [
    "import numpy as np\n",
    "\n",
    "import pandas as pd\n",
    "import sklearn as sk\n",
    "import seaborn as sb\n",
    "import datetime as dt\n",
    "import matplotlib.pyplot as plt\n",
    "from sklearn import preprocessing\n",
    "from sklearn.linear_model import LogisticRegression\n",
    "from sklearn.cross_validation import train_test_split\n",
    "from sklearn import metrics \n",
    "from sklearn.metrics import classification_report\n",
    "\n",
    "from sklearn.cross_validation import cross_val_score\n",
    "%matplotlib inline\n"
   ]
  },
  {
   "cell_type": "code",
   "execution_count": 2,
   "metadata": {
    "collapsed": true
   },
   "outputs": [],
   "source": [
    "#read in data and update data type to boolean for C2\n",
    "ipo_data = pd.read_excel(\"Competation #1 Raw Data_New.xlsx\",header=0,na_values='-' )\n",
    "ipo_data.C2 = ipo_data.C2.astype(bool)#replace missing values with mean"
   ]
  },
  {
   "cell_type": "code",
   "execution_count": 4,
   "metadata": {},
   "outputs": [],
   "source": [
    "#standardize by decimal scale for float columns\n",
    "for i in range(len(ipo_data.columns)):\n",
    "    if ipo_data.iloc[:,i].dtype == float:\n",
    "        ipo_data.iloc[:,i] = (ipo_data.iloc[:,i])/(10**len(str(int(max(ipo_data.iloc[:,i]))))) "
   ]
  },
  {
   "cell_type": "code",
   "execution_count": 5,
   "metadata": {},
   "outputs": [
    {
     "name": "stdout",
     "output_type": "stream",
     "text": [
      "     I1                                  I2    I3  P(IPO)    P(H)    P(L)  \\\n",
      "0  AATI  ADVANCED ANALOGIC TECHNOLOGIES INC  3674   0.100  0.0095  0.0085   \n",
      "1  ABPI     ACCENTIA BIOPHARMACEUTICALS INC  2834   0.080  0.0100  0.0080   \n",
      "2  ACAD          ACADIA PHARMACEUTICALS INC  2834   0.070  0.0140  0.0120   \n",
      "3  ACHN       ACHILLION PHARMACEUTICALS INC  2834   0.115  0.0160  0.0140   \n",
      "4  ACLI     AMERICAN COMMERCIAL LINES INC.   4492   0.210  0.0210  0.0190   \n",
      "5  ACOM                  Ancestry.com Inc.   7379   0.135  0.0145  0.0125   \n",
      "6  ACOR             ACORDA THERAPEUTICS INC  2836   0.060  0.0130  0.0110   \n",
      "7  ACRX          ACELRX PHARMACEUTICALS INC  2834   0.050  0.0140  0.0120   \n",
      "8  ACTV                  ACTIVE NETWORK INC  7372   0.150  0.0180  0.0160   \n",
      "9   ACW                       ACCURIDE CORP  3714   0.090  0.0190  0.0170   \n",
      "\n",
      "    P(1Day)      C1     C2        C3  ...          C6        C7      T1  \\\n",
      "0  0.001187  0.0122   True  0.000343  ...    0.010600  0.000513  0.0470   \n",
      "1  0.000725  0.0259  False -0.000162  ...    0.002400  0.000259  0.0791   \n",
      "2  0.000670  0.0090   True -0.000124  ...    0.005000  0.000074  0.0201   \n",
      "3  0.001239  0.0209   True -0.000091  ...    0.004500  0.000085  0.0328   \n",
      "4  0.005660  0.0080   True  0.000007  ...    0.008250  0.006323  0.0572   \n",
      "5  0.001420  0.0094   True  0.000006  ...    0.007407  0.001976  0.0510   \n",
      "6  0.000672  0.0128   True -0.000187  ...    0.005500  0.000051  0.0495   \n",
      "7  0.000455  0.0091  False -0.000074  ...    0.008000       NaN  0.0334   \n",
      "8  0.001590  0.0100   True -0.000051  ...    0.011000  0.002796  0.0620   \n",
      "9  0.000000  0.0106   True  0.000149  ...    0.011000  0.004940  0.0385   \n",
      "\n",
      "        T2       T3      T4       T5     S1     S2     S3  \n",
      "0  0.12719  0.11560  0.0301  0.00690  0.062  0.117  0.139  \n",
      "1  0.21792  0.19585  0.0510  0.01120  0.071  0.242  0.237  \n",
      "2  0.05262  0.04785  0.0128  0.00325  0.061  0.033  0.060  \n",
      "3  0.08259  0.07574  0.0177  0.00509  0.080  0.059  0.110  \n",
      "4  0.14830  0.13176  0.0336  0.00720  0.067  0.149  0.167  \n",
      "5  0.17999  0.13934  0.0328  0.00815  0.062  0.096  0.181  \n",
      "6  0.15758  0.13953  0.0379  0.00698  0.082  0.106  0.135  \n",
      "7  0.11226  0.10056  0.0276 -0.00001  0.055  0.120  0.122  \n",
      "8  0.14813  0.13463  0.0335  0.00917  0.058  0.124  0.234  \n",
      "9  0.09134  0.08107  0.0198  0.00459  0.081  0.090  0.147  \n",
      "\n",
      "[10 rows x 22 columns]\n"
     ]
    }
   ],
   "source": [
    "#confirm standardization worked\n",
    "print(ipo_data.head(10))"
   ]
  }
 ],
 "metadata": {
  "kernelspec": {
   "display_name": "Python 3",
   "language": "python",
   "name": "python3"
  },
  "language_info": {
   "codemirror_mode": {
    "name": "ipython",
    "version": 3
   },
   "file_extension": ".py",
   "mimetype": "text/x-python",
   "name": "python",
   "nbconvert_exporter": "python",
   "pygments_lexer": "ipython3",
   "version": "3.6.1"
  }
 },
 "nbformat": 4,
 "nbformat_minor": 2
}
