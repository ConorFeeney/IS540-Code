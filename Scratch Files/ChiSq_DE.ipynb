{
 "cells": [
  {
   "cell_type": "code",
   "execution_count": 7,
   "metadata": {
    "collapsed": false
   },
   "outputs": [],
   "source": [
    "import numpy as np\n",
    "\n",
    "import pandas as pd\n",
    "import sklearn as sk\n",
    "import seaborn as sb\n",
    "import datetime as dt\n",
    "import matplotlib.pyplot as plt\n",
    "import scipy.stats as scs\n",
    "from sklearn import preprocessing\n",
    "from sklearn.linear_model import LogisticRegression\n",
    "from sklearn.cross_validation import train_test_split\n",
    "from sklearn import metrics \n",
    "from sklearn.metrics import classification_report\n",
    "from scipy.stats import chi2_contingency\n",
    "from Recoding_SIC_Codes_Tech import Tech\n",
    "from new_var import calc,y1function,y2function,C3function,C6function\n",
    "\n",
    "from sklearn.cross_validation import cross_val_score\n",
    "%matplotlib inline\n"
   ]
  },
  {
   "cell_type": "code",
   "execution_count": 8,
   "metadata": {
    "collapsed": false
   },
   "outputs": [],
   "source": [
    "#read in data and update data type to boolean for C2\n",
    "ipo_data = pd.read_excel(\"Competition #1 Raw Data_UPDATED I3.xlsx\",header=0,na_values='-' )\n",
    "ipo_data.C2 = ipo_data.C2.astype(bool)\n",
    "\n",
    "#replace missing values with mean\n",
    "ipo_data = ipo_data.fillna(ipo_data.mean())\n",
    "# Removing 0 and negatives for T' calculations        \n",
    "ipo_data['T2']=ipo_data['T2'].mask(ipo_data['T2'] <= 0,ipo_data['T2'].mean())\n",
    "ipo_data['T1']=ipo_data['T1'].mask(ipo_data['T1'] <= 0,ipo_data['T1'].mean())\n",
    "ipo_data['T3']=ipo_data['T3'].mask(ipo_data['T3'] <= 0,ipo_data['T3'].mean())\n",
    "ipo_data['T4']=ipo_data['T4'].mask(ipo_data['T4'] <= 0,ipo_data['T4'].mean())\n",
    "ipo_data['T5']=ipo_data['T5'].mask(ipo_data['T5'] <= 0,ipo_data['T5'].mean())\n",
    "ipo_data['S1']=ipo_data['S1'].mask(ipo_data['S1'] <= 0,ipo_data['S1'].mean())"
   ]
  },
  {
   "cell_type": "code",
   "execution_count": 9,
   "metadata": {
    "collapsed": false
   },
   "outputs": [],
   "source": [
    "ipo_data['Tech'] = ipo_data.apply(Tech, axis=1)"
   ]
  },
  {
   "cell_type": "code",
   "execution_count": 11,
   "metadata": {
    "collapsed": true
   },
   "outputs": [],
   "source": [
    "calc(ipo_data)"
   ]
  },
  {
   "cell_type": "code",
   "execution_count": 30,
   "metadata": {
    "collapsed": false
   },
   "outputs": [
    {
     "data": {
      "text/plain": [
       "0.25    0.883578\n",
       "0.50    0.897133\n",
       "0.75    0.909732\n",
       "Name: T3x, dtype: float64"
      ]
     },
     "execution_count": 30,
     "metadata": {},
     "output_type": "execute_result"
    }
   ],
   "source": [
    "ipo_data.T3x.quantile([0.25,0.5,0.75])"
   ]
  },
  {
   "cell_type": "code",
   "execution_count": 31,
   "metadata": {
    "collapsed": false
   },
   "outputs": [],
   "source": [
    "ipo_data['T3xbin'] = 0\n",
    "ipo_data.loc[(ipo_data['T3x'] >= 0) & (ipo_data['T3x'] < 0.883578),'T3xbin'] = 1\n",
    "ipo_data.loc[(ipo_data['T3x'] >= 0.883578) & (ipo_data['T3x'] < 0.897133), 'T3xbin'] = 2\n",
    "ipo_data.loc[(ipo_data['T3x'] >= 0.897133) & (ipo_data['T3x'] < 0.909732), 'T3xbin'] = 3\n",
    "ipo_data.loc[ipo_data[ 'T3x'] >= 0.909732,'T3xbin'] = 4"
   ]
  },
  {
   "cell_type": "code",
   "execution_count": 33,
   "metadata": {
    "collapsed": false
   },
   "outputs": [
    {
     "data": {
      "text/plain": [
       "0.25    0.047413\n",
       "0.50    0.051901\n",
       "0.75    0.056471\n",
       "Name: T5x, dtype: float64"
      ]
     },
     "execution_count": 33,
     "metadata": {},
     "output_type": "execute_result"
    }
   ],
   "source": [
    "ipo_data.T5x.quantile([0.25,0.5,0.75])"
   ]
  },
  {
   "cell_type": "code",
   "execution_count": 34,
   "metadata": {
    "collapsed": true
   },
   "outputs": [],
   "source": [
    "ipo_data['T5xbin'] = 0\n",
    "ipo_data.loc[(ipo_data['T5x'] >= 0) & (ipo_data['T5x'] < 0.047413),'T5xbin'] = 1\n",
    "ipo_data.loc[(ipo_data['T5x'] >= 0.047413) & (ipo_data['T5x'] < 0.051901), 'T5xbin'] = 2\n",
    "ipo_data.loc[(ipo_data['T5x'] >= 0.051901) & (ipo_data['T5x'] < 0.056471), 'T5xbin'] = 3\n",
    "ipo_data.loc[ipo_data[ 'T5x'] >= 0.056471,'T5xbin'] = 4"
   ]
  },
  {
   "cell_type": "code",
   "execution_count": 21,
   "metadata": {
    "collapsed": false
   },
   "outputs": [
    {
     "name": "stdout",
     "output_type": "stream",
     "text": [
      "c2_tech 0.0972094015437 0.755204515231\n"
     ]
    }
   ],
   "source": [
    "'''\n",
    "chi2 : float, The test statistic.\n",
    "p : float, The p-value of the test\n",
    "dof : int, Degrees of freedom\n",
    "expected : ndarray, same shape as observed, The expected frequencies, based on the marginal sums of the table.\n",
    "'''\n",
    "\n",
    "##Create Crosstab of categorical columns\n",
    "c2_tech = pd.crosstab(ipo_data['C2'],ipo_data['Tech'])\n",
    "#run chi2 test on crosstab\n",
    "chi2, p, dof, expected = chi2_contingency(c2_tech)\n",
    "print('c2_tech',chi2,p)"
   ]
  },
  {
   "cell_type": "code",
   "execution_count": 32,
   "metadata": {
    "collapsed": false
   },
   "outputs": [
    {
     "name": "stdout",
     "output_type": "stream",
     "text": [
      "T3xbin_tech 5.29823351963 0.151217056409\n"
     ]
    }
   ],
   "source": [
    "##Create Crosstab of categorical columns\n",
    "T3xbin_tech = pd.crosstab(ipo_data['T3xbin'],ipo_data['Tech'])\n",
    "#run chi2 test on crosstab\n",
    "chi2, p, dof, expected = chi2_contingency(T3xbin_tech)\n",
    "print('T3xbin_tech',chi2,p)"
   ]
  },
  {
   "cell_type": "code",
   "execution_count": 35,
   "metadata": {
    "collapsed": false
   },
   "outputs": [
    {
     "name": "stdout",
     "output_type": "stream",
     "text": [
      "T5xbin_tech 12.5298358725 0.00577197880735\n"
     ]
    }
   ],
   "source": [
    "##Create Crosstab of categorical columns\n",
    "T5xbin_tech = pd.crosstab(ipo_data['T5xbin'],ipo_data['Tech'])\n",
    "#run chi2 test on crosstab\n",
    "chi2, p, dof, expected = chi2_contingency(T5xbin_tech)\n",
    "print('T5xbin_tech',chi2,p)"
   ]
  },
  {
   "cell_type": "code",
   "execution_count": 36,
   "metadata": {
    "collapsed": false
   },
   "outputs": [
    {
     "name": "stdout",
     "output_type": "stream",
     "text": [
      "T3xbin_T5xbin 122.514021089 4.08254408743e-22\n"
     ]
    }
   ],
   "source": [
    "##Create Crosstab of categorical columns\n",
    "T3xbin_T5xbin = pd.crosstab(ipo_data['T3xbin'],ipo_data['T5xbin'])\n",
    "#run chi2 test on crosstab\n",
    "chi2, p, dof, expected = chi2_contingency(T3xbin_T5xbin)\n",
    "print('T3xbin_T5xbin',chi2,p)"
   ]
  }
 ],
 "metadata": {
  "kernelspec": {
   "display_name": "Python 3",
   "language": "python",
   "name": "python3"
  },
  "language_info": {
   "codemirror_mode": {
    "name": "ipython",
    "version": 3
   },
   "file_extension": ".py",
   "mimetype": "text/x-python",
   "name": "python",
   "nbconvert_exporter": "python",
   "pygments_lexer": "ipython3",
   "version": "3.6.0"
  }
 },
 "nbformat": 4,
 "nbformat_minor": 2
}
